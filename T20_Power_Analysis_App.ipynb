{
 "cells": [
  {
   "cell_type": "markdown",
   "metadata": {},
   "source": [
    "# 🔢 Interactive Power Analysis for T20 Batting Pairs\n",
    "This notebook lets you simulate and analyze statistical power when comparing two batting strategies in T20 cricket.\n",
    "You can interactively change the average runs, standard deviation, and maximum sample size."
   ]
  },
  {
   "cell_type": "code",
   "execution_count": null,
   "metadata": {},
   "outputs": [],
   "source": [
    "# Install ipywidgets if not already installed\n",
    "!pip install ipywidgets"
   ]
  },
  {
   "cell_type": "code",
   "execution_count": null,
   "metadata": {},
   "outputs": [],
   "source": [
    "# Import libraries\n",
    "import numpy as np\n",
    "import scipy.stats as stats\n",
    "import matplotlib.pyplot as plt\n",
    "from statsmodels.stats.power import TTestIndPower\n",
    "from ipywidgets import interact, FloatSlider, IntSlider\n",
    "import warnings\n",
    "warnings.filterwarnings('ignore')"
   ]
  },
  {
   "cell_type": "code",
   "execution_count": null,
   "metadata": {},
   "outputs": [],
   "source": [
    "# Simulated power function\n",
    "def simulate_power(n, mean1, mean2, sd, reps=1000, alpha=0.05):\n",
    "    count = 0\n",
    "    for _ in range(reps):\n",
    "        group1 = np.random.normal(mean1, sd, n)\n",
    "        group2 = np.random.normal(mean2, sd, n)\n",
    "        _, p = stats.ttest_ind(group1, group2)\n",
    "        if p < alpha:\n",
    "            count += 1\n",
    "    return count / reps"
   ]
  },
  {
   "cell_type": "code",
   "execution_count": null,
   "metadata": {},
   "outputs": [],
   "source": [
    "# Interactive power curve plot\n",
    "def interactive_power(mean1=39, mean2=50, sd=10, alpha=0.05, max_n=150):\n",
    "    effect_size = (mean2 - mean1) / sd\n",
    "    sample_sizes = np.arange(10, max_n + 1, 10)\n",
    "    sim_powers = []\n",
    "    analytical_powers = []\n",
    "    power_analysis = TTestIndPower()\n",
    "    for n in sample_sizes:\n",
    "        sim_powers.append(simulate_power(n, mean1, mean2, sd, reps=500, alpha=alpha))\n",
    "        analytical_powers.append(power_analysis.power(effect_size, nobs1=n, alpha=alpha, ratio=1.0))\n",
    "    plt.figure(figsize=(10, 6))\n",
    "    plt.plot(sample_sizes, sim_powers, 'o-', label='Simulated Power', color='blue')\n",
    "    plt.plot(sample_sizes, analytical_powers, 's--', label='Analytical Power', color='green')\n",
    "    plt.axhline(0.8, color='red', linestyle='--', label='80% Power Threshold')\n",
    "    plt.title(f\"Power Curve\\nComparing Means: {mean1} vs {mean2} (Effect Size = {effect_size:.2f})\")\n",
    "    plt.xlabel('Sample Size per Group')\n",
    "    plt.ylabel('Power')\n",
    "    plt.ylim(0, 1.05)\n",
    "    plt.legend()\n",
    "    plt.grid(True)\n",
    "    plt.show()\n",
    "    current_sim_power = simulate_power(30, mean1, mean2, sd, reps=500, alpha=alpha)\n",
    "    current_analytical = power_analysis.power(effect_size, nobs1=30, alpha=alpha, ratio=1.0)\n",
    "    print(f\"Simulated Power @ n=30: {current_sim_power:.3f}\")\n",
    "    print(f\"Analytical Power @ n=30: {current_analytical:.3f}\")"
   ]
  },
  {
   "cell_type": "code",
   "execution_count": null,
   "metadata": {},
   "outputs": [],
   "source": [
    "# Interactive widget\n",
    "interact(\n",
    "    interactive_power,\n",
    "    mean1=FloatSlider(value=39, min=30, max=60, step=1, description='Mean Pair A'),\n",
    "    mean2=FloatSlider(value=50, min=30, max=60, step=1, description='Mean Pair B'),\n",
    "    sd=FloatSlider(value=10, min=5, max=20, step=1, description='Standard Dev'),\n",
    "    max_n=IntSlider(value=150, min=30, max=300, step=10, description='Max Sample Size')\n",
    ")"
   ]
  }
 ],
 "metadata": {
  "kernelspec": {
   "display_name": "Python 3",
   "language": "python",
   "name": "python3"
  },
  "language_info": {
   "name": "python",
   "version": ""
  }
 },
 "nbformat": 4,
 "nbformat_minor": 5
}
